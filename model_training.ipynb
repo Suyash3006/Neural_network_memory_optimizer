{
 "cells": [
  {
   "cell_type": "code",
   "execution_count": 6,
   "metadata": {},
   "outputs": [],
   "source": [
    "from keras.datasets import mnist\n",
    "from keras.utils import to_categorical\n",
    "\n",
    "# Load the MNIST dataset\n",
    "(X_train, y_train), (X_test, y_test) = mnist.load_data()\n",
    "\n",
    "# Reshape the input data to a 4D tensor (batch_size, height, width, channels)\n",
    "X_train = X_train.reshape(X_train.shape[0], 28, 28, 1)\n",
    "X_test = X_test.reshape(X_test.shape[0], 28, 28, 1)\n",
    "\n",
    "# Convert the input data to float32 and normalize it to [0, 1]\n",
    "X_train = X_train.astype('float32') / 255\n",
    "X_test = X_test.astype('float32') / 255\n",
    "\n",
    "# Convert the output data to categorical format\n",
    "num_classes = 10\n",
    "y_train = to_categorical(y_train, num_classes)\n",
    "y_test = to_categorical(y_test, num_classes)\n"
   ]
  },
  {
   "cell_type": "code",
   "execution_count": 7,
   "metadata": {},
   "outputs": [],
   "source": [
    "from keras.models import Sequential\n",
    "from keras.layers import Dense, Flatten, Conv2D, MaxPooling2D\n",
    "\n",
    "# Define the neural network architecture\n",
    "model = Sequential()\n",
    "model.add(Conv2D(32, kernel_size=(3, 3), activation='relu', input_shape=(28, 28, 1)))\n",
    "model.add(MaxPooling2D(pool_size=(2, 2)))\n",
    "model.add(Flatten())\n",
    "model.add(Dense(128, activation='relu'))\n",
    "model.add(Dense(num_classes, activation='softmax'))\n",
    "\n",
    "# Compile the model\n",
    "model.compile(loss='categorical_crossentropy', optimizer='adam', metrics=['accuracy'])\n"
   ]
  },
  {
   "cell_type": "code",
   "execution_count": 8,
   "metadata": {},
   "outputs": [
    {
     "name": "stdout",
     "output_type": "stream",
     "text": [
      "Epoch 1/10\n",
      "469/469 [==============================] - 43s 86ms/step - loss: 0.2131 - accuracy: 0.9391 - val_loss: 0.0816 - val_accuracy: 0.9753\n",
      "Epoch 2/10\n",
      "469/469 [==============================] - 53s 113ms/step - loss: 0.0649 - accuracy: 0.9804 - val_loss: 0.0612 - val_accuracy: 0.9804\n",
      "Epoch 3/10\n",
      "469/469 [==============================] - 52s 111ms/step - loss: 0.0426 - accuracy: 0.9873 - val_loss: 0.0471 - val_accuracy: 0.9843\n",
      "Epoch 4/10\n",
      "469/469 [==============================] - 54s 115ms/step - loss: 0.0317 - accuracy: 0.9907 - val_loss: 0.0403 - val_accuracy: 0.9850\n",
      "Epoch 5/10\n",
      "469/469 [==============================] - 58s 124ms/step - loss: 0.0231 - accuracy: 0.9931 - val_loss: 0.0439 - val_accuracy: 0.9858\n",
      "Epoch 6/10\n",
      "469/469 [==============================] - 52s 112ms/step - loss: 0.0177 - accuracy: 0.9944 - val_loss: 0.0410 - val_accuracy: 0.9869\n",
      "Epoch 7/10\n",
      "469/469 [==============================] - 54s 114ms/step - loss: 0.0132 - accuracy: 0.9960 - val_loss: 0.0397 - val_accuracy: 0.9865\n",
      "Epoch 8/10\n",
      "469/469 [==============================] - 46s 99ms/step - loss: 0.0093 - accuracy: 0.9974 - val_loss: 0.0483 - val_accuracy: 0.9851\n",
      "Epoch 9/10\n",
      "469/469 [==============================] - 43s 91ms/step - loss: 0.0081 - accuracy: 0.9977 - val_loss: 0.0416 - val_accuracy: 0.9870\n",
      "Epoch 10/10\n",
      "469/469 [==============================] - 49s 104ms/step - loss: 0.0064 - accuracy: 0.9983 - val_loss: 0.0479 - val_accuracy: 0.9869\n",
      "Test loss: 0.04790318012237549\n",
      "Test accuracy: 0.9868999719619751\n"
     ]
    }
   ],
   "source": [
    "# Train the model\n",
    "batch_size = 128\n",
    "epochs = 10\n",
    "model.fit(X_train, y_train, batch_size=batch_size, epochs=epochs, validation_data=(X_test, y_test))\n",
    "\n",
    "# Evaluate the model on the test dataset\n",
    "score = model.evaluate(X_test, y_test, verbose=0)\n",
    "print('Test loss:', score[0])\n",
    "print('Test accuracy:', score[1])\n"
   ]
  },
  {
   "cell_type": "code",
   "execution_count": 5,
   "metadata": {},
   "outputs": [],
   "source": [
    "model.save('my_model.h5')"
   ]
  }
 ],
 "metadata": {
  "kernelspec": {
   "display_name": "Python 3",
   "language": "python",
   "name": "python3"
  },
  "language_info": {
   "codemirror_mode": {
    "name": "ipython",
    "version": 3
   },
   "file_extension": ".py",
   "mimetype": "text/x-python",
   "name": "python",
   "nbconvert_exporter": "python",
   "pygments_lexer": "ipython3",
   "version": "3.11.3"
  },
  "orig_nbformat": 4
 },
 "nbformat": 4,
 "nbformat_minor": 2
}
